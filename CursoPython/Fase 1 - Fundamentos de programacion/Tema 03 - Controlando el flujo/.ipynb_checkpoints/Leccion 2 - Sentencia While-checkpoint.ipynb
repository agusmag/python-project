{
 "cells": [
  {
   "cell_type": "code",
   "execution_count": 1,
   "metadata": {},
   "outputs": [
    {
     "name": "stdout",
     "output_type": "stream",
     "text": [
      "1\n",
      "2\n",
      "3\n",
      "4\n",
      "5\n"
     ]
    }
   ],
   "source": [
    "c = 0\n",
    "while c < 5:\n",
    "    c += 1\n",
    "    print(c)"
   ]
  },
  {
   "cell_type": "code",
   "execution_count": 2,
   "metadata": {},
   "outputs": [
    {
     "name": "stdout",
     "output_type": "stream",
     "text": [
      "c vale 1\n",
      "c vale 2\n",
      "c vale 3\n",
      "c vale 4\n",
      "c vale 5\n",
      "c vale 6\n",
      "Se ha completado la iteración\n"
     ]
    }
   ],
   "source": [
    "#Se puede concatenar una acción al finalizar la condición con un else:\n",
    "c = 0\n",
    "while c <= 5:\n",
    "    c += 1\n",
    "    print(\"c vale\", c)\n",
    "else:\n",
    "    print(\"Se ha completado la iteración\")"
   ]
  },
  {
   "cell_type": "code",
   "execution_count": 5,
   "metadata": {},
   "outputs": [
    {
     "name": "stdout",
     "output_type": "stream",
     "text": [
      "c vale 1\n",
      "Cortando la ejecución del while\n"
     ]
    }
   ],
   "source": [
    "# Se puede salir del ciclo con un break, esto genera que no se ejecute el else tampoco\n",
    "c = 0\n",
    "while c <= 5:\n",
    "    c += 1\n",
    "    if ( c == 2 ):\n",
    "        print(\"Cortando la ejecución del while\")\n",
    "        break\n",
    "    print(\"c vale\",c)\n",
    "else:\n",
    "    print('Se ha completado la iteración')"
   ]
  },
  {
   "cell_type": "code",
   "execution_count": 7,
   "metadata": {},
   "outputs": [
    {
     "name": "stdout",
     "output_type": "stream",
     "text": [
      "c vale 1\n",
      "Salteando la iteración 2\n",
      "c vale 3\n",
      "c vale 4\n",
      "c vale 5\n",
      "c vale 6\n",
      "Se ha completado la iteración\n"
     ]
    }
   ],
   "source": [
    "#Si se quiere saltear la iteración actual pero sin romper el ciclo entero, se usa continue\n",
    "c = 0\n",
    "while c <= 5:\n",
    "    c += 1\n",
    "    if ( c == 2 ):\n",
    "        print(\"Salteando la iteración 2\")\n",
    "        continue\n",
    "    print(\"c vale\",c)\n",
    "else:\n",
    "    print('Se ha completado la iteración')"
   ]
  },
  {
   "cell_type": "code",
   "execution_count": null,
   "metadata": {},
   "outputs": [],
   "source": []
  }
 ],
 "metadata": {
  "kernelspec": {
   "display_name": "Python 3",
   "language": "python",
   "name": "python3"
  },
  "language_info": {
   "codemirror_mode": {
    "name": "ipython",
    "version": 3
   },
   "file_extension": ".py",
   "mimetype": "text/x-python",
   "name": "python",
   "nbconvert_exporter": "python",
   "pygments_lexer": "ipython3",
   "version": "3.7.4"
  }
 },
 "nbformat": 4,
 "nbformat_minor": 1
}
