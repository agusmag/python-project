{
 "cells": [
  {
   "cell_type": "code",
   "execution_count": 1,
   "metadata": {},
   "outputs": [
    {
     "name": "stdout",
     "output_type": "stream",
     "text": [
      "Se cumple la condición\n"
     ]
    }
   ],
   "source": [
    "# los : separan el bloque de cada parte del if (if, elif, else)\n",
    "if True:\n",
    "    print('Se cumple la condición')"
   ]
  },
  {
   "cell_type": "code",
   "execution_count": 2,
   "metadata": {},
   "outputs": [
    {
     "name": "stdout",
     "output_type": "stream",
     "text": [
      " a vale  5\n",
      "y b vale  10\n"
     ]
    }
   ],
   "source": [
    "a = 5\n",
    "b = 10\n",
    "if a == 5:\n",
    "    print(' a vale ', a)\n",
    "    if b == 10:\n",
    "        print('y b vale ', b)"
   ]
  },
  {
   "cell_type": "code",
   "execution_count": 3,
   "metadata": {},
   "outputs": [
    {
     "name": "stdout",
     "output_type": "stream",
     "text": [
      "a vale 5 y b vale 10\n"
     ]
    }
   ],
   "source": [
    "if a == 5 and b == 10:\n",
    "    print('a vale 5 y b vale 10')"
   ]
  },
  {
   "cell_type": "code",
   "execution_count": 4,
   "metadata": {},
   "outputs": [
    {
     "name": "stdout",
     "output_type": "stream",
     "text": [
      "10 es un número par\n"
     ]
    }
   ],
   "source": [
    "n = 10\n",
    "if n % 2 == 0:\n",
    "    print(n, 'es un número par')\n",
    "else:\n",
    "    print(n, 'es un número impar')"
   ]
  },
  {
   "cell_type": "code",
   "execution_count": 6,
   "metadata": {},
   "outputs": [
    {
     "name": "stdout",
     "output_type": "stream",
     "text": [
      "Saliendo\n"
     ]
    }
   ],
   "source": [
    "comando = \"SALIR\"\n",
    "\n",
    "if comando == \"ENTRAR\":\n",
    "    print('Entrando')\n",
    "elif comando == \"SALUDAR\":\n",
    "    print(\"Hola!\")\n",
    "elif comando == \"SALIR\":\n",
    "    print(\"Saliendo\")\n",
    "else:\n",
    "    printnt(\"Comando erroneo\")"
   ]
  },
  {
   "cell_type": "code",
   "execution_count": 7,
   "metadata": {},
   "outputs": [],
   "source": [
    "#EL pass sirve para dejarlo como en blanco, pero que se conserve el elemento.\n",
    "if True:\n",
    "    pass"
   ]
  },
  {
   "cell_type": "code",
   "execution_count": 8,
   "metadata": {},
   "outputs": [],
   "source": [
    "# La sentencia switch no existe en python"
   ]
  },
  {
   "cell_type": "code",
   "execution_count": null,
   "metadata": {},
   "outputs": [],
   "source": []
  }
 ],
 "metadata": {
  "kernelspec": {
   "display_name": "Python 3",
   "language": "python",
   "name": "python3"
  },
  "language_info": {
   "codemirror_mode": {
    "name": "ipython",
    "version": 3
   },
   "file_extension": ".py",
   "mimetype": "text/x-python",
   "name": "python",
   "nbconvert_exporter": "python",
   "pygments_lexer": "ipython3",
   "version": "3.7.4"
  }
 },
 "nbformat": 4,
 "nbformat_minor": 1
}
