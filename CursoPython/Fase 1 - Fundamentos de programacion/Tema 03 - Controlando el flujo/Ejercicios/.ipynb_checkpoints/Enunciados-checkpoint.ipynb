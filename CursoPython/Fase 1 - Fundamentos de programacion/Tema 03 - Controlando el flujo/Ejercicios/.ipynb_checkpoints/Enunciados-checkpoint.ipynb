{
 "cells": [
  {
   "cell_type": "markdown",
   "metadata": {},
   "source": [
    "# Tema 03: Control de flujo (Enunciados)\n",
    "*Nota: Estos ejercicios son optativos para hacer al final de la unidad y están pensados para apoyar tu aprendizaje*."
   ]
  },
  {
   "cell_type": "markdown",
   "metadata": {},
   "source": [
    "**1) Realiza un programa que lea dos números por teclado y permita elegir entre 3 opciones en un menú:** \n",
    "* Mostrar una suma de los dos números\n",
    "* Mostrar una resta de los dos números (el primero menos el segundo)\n",
    "* Mostrar una multiplicación de los dos números\n",
    "* En caso de no introducir una opción válida, el programa informará de que no es correcta."
   ]
  },
  {
   "cell_type": "code",
   "execution_count": 6,
   "metadata": {},
   "outputs": [
    {
     "name": "stdout",
     "output_type": "stream",
     "text": [
      "Introduce un numero: 2\n",
      "Introduce otro numero: 5\n",
      "Que quieres hacer?\n",
      "1 - Sumar numeros\n",
      "2 - Restar numeros\n",
      "3 - Multiplicar numeros\n",
      "Elección [1-3]: 8\n",
      "Ninguna opción es válida\n"
     ]
    }
   ],
   "source": [
    "# Completa el ejercicio aquí\n",
    "numero_1 = float(input(\"Introduce un numero: \"))\n",
    "numero_2 = float(input(\"Introduce otro numero: \"))\n",
    "\n",
    "print(\"Que quieres hacer?\")\n",
    "print(\"1 - Sumar numeros\")\n",
    "print(\"2 - Restar numeros\")\n",
    "print(\"3 - Multiplicar numeros\")\n",
    "opcion = int(input(\"Elección [1-3]: \"))\n",
    "\n",
    "if (opcion == 1):\n",
    "    print(\"La suma es: \", numero_1 + numero_2)\n",
    "elif (opcion == 2):\n",
    "    print(\"La resta es: \", numero_1 - numero_2)\n",
    "elif (opcion == 3):\n",
    "    print(\"La multiplicación es: \", numero_1 * numero_2)\n",
    "else:\n",
    "    print(\"Ninguna opción es válida\")"
   ]
  },
  {
   "cell_type": "markdown",
   "metadata": {},
   "source": [
    "**2) Realiza un programa que lea un número impar por teclado. Si el usuario no introduce un número impar, debe repetise el proceso hasta que lo introduzca correctamente.**"
   ]
  },
  {
   "cell_type": "code",
   "execution_count": 7,
   "metadata": {},
   "outputs": [
    {
     "name": "stdout",
     "output_type": "stream",
     "text": [
      "Debes introducir un número impar: 2\n",
      "Debes introducir un número impar: 2\n",
      "Debes introducir un número impar: 2\n",
      "Debes introducir un número impar: 4\n",
      "Debes introducir un número impar: 6\n",
      "Debes introducir un número impar: 5\n"
     ]
    }
   ],
   "source": [
    "# Completa el ejercicio aquí\n",
    "numero = 0\n",
    "while numero % 2 == 0:\n",
    "    numero = int(input(\"Debes introducir un número impar: \"))\n"
   ]
  },
  {
   "cell_type": "markdown",
   "metadata": {},
   "source": [
    "**3) Realiza un programa que sume todos los números enteros pares desde el 0 hasta el 100:**\n",
    "\n",
    "*Sugerencia: Puedes utilizar la funciones sum() y range() para hacerlo más fácil. El tercer parámetro en la función range(inicio, fin, salto) indica un salto de números, pruébalo.*"
   ]
  },
  {
   "cell_type": "code",
   "execution_count": 12,
   "metadata": {},
   "outputs": [
    {
     "name": "stdout",
     "output_type": "stream",
     "text": [
      "2550 2550\n"
     ]
    }
   ],
   "source": [
    "# Completa el ejercicio aquí\n",
    "total = 0\n",
    "for i in range(101):\n",
    "    if i % 2 == 0:\n",
    "        total += i\n",
    "        \n",
    "#Otra forma de hacerlo es con el sum y el range con el tercer parámetro de salto\n",
    "total2 = sum(range(0,101,2))\n",
    "\n",
    "print(total, total2)"
   ]
  },
  {
   "cell_type": "markdown",
   "metadata": {},
   "source": [
    "**4) Realiza un programa que pida al usuario cuantos números quiere introducir. Luego lee todos los números y realiza una media aritmética:**\n"
   ]
  },
  {
   "cell_type": "code",
   "execution_count": 17,
   "metadata": {},
   "outputs": [
    {
     "name": "stdout",
     "output_type": "stream",
     "text": [
      "Ingrese una cantidad de numeros a ingresar4\n",
      "Introduce un numero: 2\n",
      "Introduce un numero: 2\n",
      "Introduce un numero: 3\n",
      "Introduce un numero: 1\n"
     ]
    },
    {
     "data": {
      "text/plain": [
       "2.0"
      ]
     },
     "execution_count": 17,
     "metadata": {},
     "output_type": "execute_result"
    }
   ],
   "source": [
    "# Completa el ejercicio aquí\n",
    "cantidad = int(input(\"Ingrese una cantidad de numeros a ingresar\"))\n",
    "numero_temp = 0\n",
    "\n",
    "for numero in range(cantidad):\n",
    "    numero_temp += float( input(\"Introduce un numero: \") )\n",
    "    \n",
    "numero_total = numero_temp / cantidad\n",
    "\n",
    "numero_total"
   ]
  },
  {
   "cell_type": "markdown",
   "metadata": {},
   "source": [
    "**5) Realiza un programa que pida al usuario un número entero del 0 al 9, y que mientras el número no sea correcto se repita el proceso. Luego debe comprobar si el número se encuentra en la lista de números y notificarlo:**\n",
    "\n",
    "*Consejo: La sintaxis \"valor in lista\" permite comprobar fácilmente si un valor se encuentra en una lista (devuelve True o False)*"
   ]
  },
  {
   "cell_type": "code",
   "execution_count": 20,
   "metadata": {},
   "outputs": [
    {
     "name": "stdout",
     "output_type": "stream",
     "text": [
      "Escribe un numero del 0 al 9: 3\n",
      "Está en la lista el número 3\n"
     ]
    }
   ],
   "source": [
    "# Completa el ejercicio aquí\n",
    "numeros = [1, 3, 6, 9]\n",
    "\n",
    "while True:\n",
    "    numero = int( input(\"Escribe un numero del 0 al 9: \") )\n",
    "    if numero >= 0 and numero <= 9:\n",
    "        break\n",
    "        \n",
    "#Otra forma mas facil de hacerlo es con el in\n",
    "if numero in numeros:\n",
    "    print(\"Está en la lista el número\", numero)\n",
    "else:\n",
    "    print(\"No está en la lista el número\", numero)"
   ]
  },
  {
   "cell_type": "markdown",
   "metadata": {},
   "source": [
    "**6) Utilizando la función range() y la conversión a listas genera las siguientes listas dinámicamente:**\n",
    "* Todos los números del 0 al 10 [0, 1, 2, ..., 10]\n",
    "* Todos los números del -10 al 0 [-10, -9, -8, ..., 0]\n",
    "* Todos los números pares del 0 al 20 [0, 2, 4, ..., 20]\n",
    "* Todos los números impares entre -20 y 0 [-19, -17, -15, ..., -1]\n",
    "* Todos los números múltiples de 5 del 0 al 50 [0, 5, 10, ..., 50]\n",
    "\n",
    "*Pista: Utiliza el tercer parámetro de la función range(inicio, fin, salto).*"
   ]
  },
  {
   "cell_type": "code",
   "execution_count": 22,
   "metadata": {},
   "outputs": [
    {
     "name": "stdout",
     "output_type": "stream",
     "text": [
      "[0, 1, 2, 3, 4, 5, 6, 7, 8, 9, 10]\n",
      "[-10, -9, -8, -7, -6, -5, -4, -3, -2, -1, 0]\n",
      "[0, 2, 4, 6, 8, 10, 12, 14, 16, 18, 20]\n",
      "[-19, -17, -15, -13, -11, -9, -7, -5, -3, -1]\n",
      "[0, 5, 10, 15, 20, 25, 30, 35, 40, 45, 50]\n"
     ]
    }
   ],
   "source": [
    "# Completa el ejercicio\n",
    "print( list( range(0,11) ) )\n",
    "print( list( range(-10,1) ) )\n",
    "print( list( range(0,21, 2) ) )\n",
    "print( list( range(-19,1,2) ) )\n",
    "print( list( range(0,51, 5) ) )"
   ]
  },
  {
   "cell_type": "markdown",
   "metadata": {},
   "source": [
    "**7) Dadas dos listas, debes generar una tercera con todos los elementos que se repitan en ellas, pero no debe repetise ningún elemento en la nueva lista:**"
   ]
  },
  {
   "cell_type": "code",
   "execution_count": 28,
   "metadata": {},
   "outputs": [
    {
     "name": "stdout",
     "output_type": "stream",
     "text": [
      "['h', 'o', 'l', 'a', ' ', 'u', 'n']\n"
     ]
    }
   ],
   "source": [
    "# Completa el ejercicio aquí\n",
    "lista_1 = [\"h\", \"o\", \"l\", \"a\", \" \", \"m\",\"u\",\"n\",\"d\",\"o\"]\n",
    "lista_2 = [\"h\", \"o\", \"l\", \"a\", \" \", \"l\",\"u\",\"n\",\"a\"]\n",
    "\n",
    "lista_3 = []\n",
    "\n",
    "for letra in lista_1:\n",
    "    if letra in lista_2 and letra not in lista_3:\n",
    "        lista_3.append(letra)\n",
    "        \n",
    "print(lista_3)"
   ]
  },
  {
   "cell_type": "code",
   "execution_count": null,
   "metadata": {},
   "outputs": [],
   "source": []
  }
 ],
 "metadata": {
  "anaconda-cloud": {},
  "kernelspec": {
   "display_name": "Python 3",
   "language": "python",
   "name": "python3"
  },
  "language_info": {
   "codemirror_mode": {
    "name": "ipython",
    "version": 3
   },
   "file_extension": ".py",
   "mimetype": "text/x-python",
   "name": "python",
   "nbconvert_exporter": "python",
   "pygments_lexer": "ipython3",
   "version": "3.7.4"
  }
 },
 "nbformat": 4,
 "nbformat_minor": 1
}
