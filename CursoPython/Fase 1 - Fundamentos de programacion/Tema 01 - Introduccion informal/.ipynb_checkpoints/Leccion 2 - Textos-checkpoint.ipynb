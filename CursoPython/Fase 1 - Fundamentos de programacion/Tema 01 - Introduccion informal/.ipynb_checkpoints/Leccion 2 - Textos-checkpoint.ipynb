{
 "cells": [
  {
   "cell_type": "code",
   "execution_count": 1,
   "metadata": {},
   "outputs": [
    {
     "data": {
      "text/plain": [
       "'Hola mundo'"
      ]
     },
     "execution_count": 1,
     "metadata": {},
     "output_type": "execute_result"
    }
   ],
   "source": [
    "'Hola mundo'"
   ]
  },
  {
   "cell_type": "code",
   "execution_count": 2,
   "metadata": {},
   "outputs": [
    {
     "data": {
      "text/plain": [
       "'Hola mundo'"
      ]
     },
     "execution_count": 2,
     "metadata": {},
     "output_type": "execute_result"
    }
   ],
   "source": [
    "\"Hola mundo\""
   ]
  },
  {
   "cell_type": "code",
   "execution_count": 3,
   "metadata": {},
   "outputs": [
    {
     "data": {
      "text/plain": [
       "\"Este texto incluye ' '\""
      ]
     },
     "execution_count": 3,
     "metadata": {},
     "output_type": "execute_result"
    }
   ],
   "source": [
    "\"Este texto incluye ' '\""
   ]
  },
  {
   "cell_type": "code",
   "execution_count": 4,
   "metadata": {},
   "outputs": [
    {
     "data": {
      "text/plain": [
       "'Esta \"palabra\" tiene comillas dobles'"
      ]
     },
     "execution_count": 4,
     "metadata": {},
     "output_type": "execute_result"
    }
   ],
   "source": [
    "# Como caracter de escape python tiene la \\\n",
    "\"Esta \\\"palabra\\\" tiene comillas dobles\""
   ]
  },
  {
   "cell_type": "code",
   "execution_count": 6,
   "metadata": {},
   "outputs": [
    {
     "name": "stdout",
     "output_type": "stream",
     "text": [
      "Texto sin comillas\n"
     ]
    }
   ],
   "source": [
    "# print() es la función para imprimir por pantalla cosas, variables, textos, caracteres, etc.\n",
    "print(\"Texto sin comillas\")"
   ]
  },
  {
   "cell_type": "code",
   "execution_count": 7,
   "metadata": {},
   "outputs": [
    {
     "name": "stdout",
     "output_type": "stream",
     "text": [
      "Un texto\tUna tabulación\n"
     ]
    }
   ],
   "source": [
    "print(\"Un texto\\tUna tabulación\")"
   ]
  },
  {
   "cell_type": "code",
   "execution_count": 10,
   "metadata": {},
   "outputs": [
    {
     "name": "stdout",
     "output_type": "stream",
     "text": [
      "Esto es un directorio C:\\user\\local\n"
     ]
    }
   ],
   "source": [
    "#Para mostar un texto sin caracteres especiales, se especifica una r delante del print\n",
    "print(r\"Esto es un directorio C:\\user\\local\")"
   ]
  },
  {
   "cell_type": "code",
   "execution_count": 11,
   "metadata": {},
   "outputs": [
    {
     "name": "stdout",
     "output_type": "stream",
     "text": [
      "Documentación\n",
      "Esto es un print con saltos de linea sin caracteres especiales\n",
      "Es a modo de prueba\n"
     ]
    }
   ],
   "source": [
    "#Para documentar por ejemplo, python permite hacer un print multilinea con triple comilla\n",
    "print(\"\"\"Documentación\n",
    "Esto es un print con saltos de linea sin caracteres especiales\n",
    "Es a modo de prueba\"\"\")"
   ]
  },
  {
   "cell_type": "code",
   "execution_count": 12,
   "metadata": {},
   "outputs": [
    {
     "name": "stdout",
     "output_type": "stream",
     "text": [
      "Hola como estás?\n",
      "Hola2 como estas2?\n",
      "Hola Hola Hola \n"
     ]
    }
   ],
   "source": [
    "#Para concatenar python tiene muchas formas, si son strings se las puede colocar juntas y ya, con el +, multiplicarlas\n",
    "c = \"Hola\"\n",
    "s = \" como estás?\"\n",
    "r = c + s\n",
    "print(r)\n",
    "\n",
    "r2 = \"Hola2\" \" como estas2?\"\n",
    "print(r2)\n",
    "\n",
    "r3 = \"Hola \" * 3\n",
    "print(r3)"
   ]
  },
  {
   "cell_type": "code",
   "execution_count": 19,
   "metadata": {},
   "outputs": [
    {
     "name": "stdout",
     "output_type": "stream",
     "text": [
      "h -> Es igual a h\n",
      "P -> Es igual a P\n",
      "yth -> Es igual a yth\n",
      "hon -> Es igual a hon\n",
      "Pyt -> Es igual a Pyt\n"
     ]
    }
   ],
   "source": [
    "# Python usa los indices de los strings con [] tratanto al objeto string como array (arranca de 0)\n",
    "palabra = \"Python\"\n",
    "print(palabra[3] + \" -> Es igual a h\")\n",
    "#Python usa indices negativos para invertir el orden de la palabra (arranca de -1 por que 0 es para los positivos)\n",
    "palabra_inv = \"Python\"\n",
    "print(palabra[-6] + \" -> Es igual a P\")\n",
    "#Python también permite usar un rango de indices separándolos con : (él último no está incluido), si no de incluye nada luego o antes del : es hasta el final o desde el principio respectivamente\n",
    "palabra_rango = \"Python\"\n",
    "print(palabra[1:4] + \" -> Es igual a yth\")\n",
    "print(palabra[3:] + \" -> Es igual a hon\")\n",
    "print(palabra[:3] + \" -> Es igual a Pyt\")"
   ]
  },
  {
   "cell_type": "code",
   "execution_count": 20,
   "metadata": {},
   "outputs": [
    {
     "ename": "TypeError",
     "evalue": "'str' object does not support item assignment",
     "output_type": "error",
     "traceback": [
      "\u001b[0;31m---------------------------------------------------------------------------\u001b[0m",
      "\u001b[0;31mTypeError\u001b[0m                                 Traceback (most recent call last)",
      "\u001b[0;32m<ipython-input-20-deb17e6d13e3>\u001b[0m in \u001b[0;36m<module>\u001b[0;34m\u001b[0m\n\u001b[1;32m      1\u001b[0m \u001b[0;31m#Python no puede reemplazar cadenas, pero si puede concatenarlas con slicing (:)\u001b[0m\u001b[0;34m\u001b[0m\u001b[0;34m\u001b[0m\u001b[0;34m\u001b[0m\u001b[0m\n\u001b[0;32m----> 2\u001b[0;31m \u001b[0mpalabra\u001b[0m\u001b[0;34m[\u001b[0m\u001b[0;36m0\u001b[0m\u001b[0;34m]\u001b[0m \u001b[0;34m=\u001b[0m \u001b[0;34m'N'\u001b[0m\u001b[0;34m\u001b[0m\u001b[0;34m\u001b[0m\u001b[0m\n\u001b[0m",
      "\u001b[0;31mTypeError\u001b[0m: 'str' object does not support item assignment"
     ]
    }
   ],
   "source": [
    "#Python no puede reemplazar cadenas, pero si puede concatenarlas con slicing (:)\n",
    "palabra[0] = 'N'"
   ]
  },
  {
   "cell_type": "code",
   "execution_count": 21,
   "metadata": {},
   "outputs": [
    {
     "data": {
      "text/plain": [
       "'Nython'"
      ]
     },
     "execution_count": 21,
     "metadata": {},
     "output_type": "execute_result"
    }
   ],
   "source": [
    "palabra = \"N\" + palabra[1:]\n",
    "palabra"
   ]
  },
  {
   "cell_type": "code",
   "execution_count": null,
   "metadata": {},
   "outputs": [],
   "source": []
  }
 ],
 "metadata": {
  "anaconda-cloud": {},
  "kernelspec": {
   "display_name": "Python 3",
   "language": "python",
   "name": "python3"
  },
  "language_info": {
   "codemirror_mode": {
    "name": "ipython",
    "version": 3
   },
   "file_extension": ".py",
   "mimetype": "text/x-python",
   "name": "python",
   "nbconvert_exporter": "python",
   "pygments_lexer": "ipython3",
   "version": "3.7.4"
  }
 },
 "nbformat": 4,
 "nbformat_minor": 1
}
