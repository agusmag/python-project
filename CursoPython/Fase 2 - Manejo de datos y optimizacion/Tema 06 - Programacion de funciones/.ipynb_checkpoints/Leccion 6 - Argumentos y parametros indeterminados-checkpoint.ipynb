{
 "cells": [
  {
   "cell_type": "code",
   "execution_count": 2,
   "metadata": {},
   "outputs": [
    {
     "name": "stdout",
     "output_type": "stream",
     "text": [
      "(5, 'Hola', [1, 2, 3, 4, 5])\n",
      "5\n",
      "Hola\n",
      "[1, 2, 3, 4, 5]\n"
     ]
    }
   ],
   "source": [
    "#Python puede gestionar la cantidad de parámetros dentro de las funciones de forma nativa\n",
    "def indeterminados_posicion(*args): #Esta semántica indica que pueden ser argumentos variables\n",
    "    print(args) #Estos args están en una tupla, no se puede modificar\n",
    "    for arg in args:\n",
    "        print(arg)\n",
    "    \n",
    "indeterminados_posicion(5,\"Hola\", [1,2,3,4,5])\n",
    "    "
   ]
  },
  {
   "cell_type": "code",
   "execution_count": 4,
   "metadata": {},
   "outputs": [
    {
     "name": "stdout",
     "output_type": "stream",
     "text": [
      "{'n': 5, 'c': 'Hola', 'l': [1, 2, 3, 4, 5]}\n"
     ]
    }
   ],
   "source": [
    "#Otra forma de almacenar estos argumentos, python puede usar diccionarios\n",
    "def indeterminados_nombre(**kwargs): #Con esta semántica se le indica a python que almacene esos valores en un diccionario.\n",
    "    print(kwargs)\n",
    "    \n",
    "indeterminados_nombre(n=5,c=\"Hola\",l=[1,2,3,4,5]) #Se le pasa la clave=valor"
   ]
  },
  {
   "cell_type": "code",
   "execution_count": 6,
   "metadata": {},
   "outputs": [
    {
     "name": "stdout",
     "output_type": "stream",
     "text": [
      "n 5\n",
      "c Hola\n",
      "l [1, 2, 3, 4, 5]\n"
     ]
    }
   ],
   "source": [
    "#Otra forma de almacenar estos argumentos, python puede usar diccionarios\n",
    "def indeterminados_nombre(**kwargs): #Con esta semántica se le indica a python que almacene esos valores en un diccionario.\n",
    "    for kwarg,kwargval in kwargs.items():\n",
    "        print(kwarg, kwargval)\n",
    "    \n",
    "indeterminados_nombre(n=5,c=\"Hola\",l=[1,2,3,4,5]) #Se le pasa la clave=valor"
   ]
  },
  {
   "cell_type": "code",
   "execution_count": 7,
   "metadata": {},
   "outputs": [
    {
     "name": "stdout",
     "output_type": "stream",
     "text": [
      "Sumatorio indeterminado es: 60.56\n",
      "nombre Hector\n",
      "edad 27\n"
     ]
    }
   ],
   "source": [
    "#Combinar los 2 tipos\n",
    "def super_funcion(*args,**kwargs):\n",
    "    t = 0\n",
    "    for arg in args:\n",
    "        t += arg\n",
    "    print(\"Sumatorio indeterminado es:\", t)\n",
    "    \n",
    "    for kwarg,kwargval in kwargs.items():\n",
    "        print(kwarg, kwargval)\n",
    "    \n",
    "super_funcion(10,50,-1,1.56,nombre=\"Hector\", edad=27)"
   ]
  },
  {
   "cell_type": "code",
   "execution_count": null,
   "metadata": {},
   "outputs": [],
   "source": []
  }
 ],
 "metadata": {
  "kernelspec": {
   "display_name": "Python 3",
   "language": "python",
   "name": "python3"
  },
  "language_info": {
   "codemirror_mode": {
    "name": "ipython",
    "version": 3
   },
   "file_extension": ".py",
   "mimetype": "text/x-python",
   "name": "python",
   "nbconvert_exporter": "python",
   "pygments_lexer": "ipython3",
   "version": "3.7.4"
  }
 },
 "nbformat": 4,
 "nbformat_minor": 1
}
