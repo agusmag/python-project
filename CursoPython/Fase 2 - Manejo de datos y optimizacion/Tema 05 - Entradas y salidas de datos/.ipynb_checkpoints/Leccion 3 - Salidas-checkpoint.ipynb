{
 "cells": [
  {
   "cell_type": "code",
   "execution_count": 4,
   "metadata": {},
   "outputs": [
    {
     "name": "stdout",
     "output_type": "stream",
     "text": [
      "Un texto, otro texto y un número 10\n"
     ]
    }
   ],
   "source": [
    "v = \"otro texto\"\n",
    "n = 10\n",
    "print(\"Un texto,\", v, \"y un número\", n)"
   ]
  },
  {
   "cell_type": "code",
   "execution_count": 7,
   "metadata": {},
   "outputs": [],
   "source": [
    "#Para facilitar la salida de datos se puede usar el formateo de escritura (Se crea el contenido con las variables dentro)\n",
    "#Se usa el método format para introducir las variables\n",
    "c = \"Un texto, {} y un número {}\".format(v,n)"
   ]
  },
  {
   "cell_type": "code",
   "execution_count": 8,
   "metadata": {},
   "outputs": [
    {
     "data": {
      "text/plain": [
       "'Un texto, otro texto y un número 10'"
      ]
     },
     "execution_count": 8,
     "metadata": {},
     "output_type": "execute_result"
    }
   ],
   "source": [
    "c"
   ]
  },
  {
   "cell_type": "code",
   "execution_count": 9,
   "metadata": {},
   "outputs": [
    {
     "name": "stdout",
     "output_type": "stream",
     "text": [
      "Un texto, otro texto y un número 10\n"
     ]
    }
   ],
   "source": [
    "print(c)"
   ]
  },
  {
   "cell_type": "code",
   "execution_count": 10,
   "metadata": {},
   "outputs": [
    {
     "name": "stdout",
     "output_type": "stream",
     "text": [
      "Un texto, 10 y un número otro texto\n"
     ]
    }
   ],
   "source": [
    "#También se puede especificar un orden al format\n",
    "print( \"Un texto, {1} y un número {0}\".format(v,n) )"
   ]
  },
  {
   "cell_type": "code",
   "execution_count": 11,
   "metadata": {},
   "outputs": [
    {
     "name": "stdout",
     "output_type": "stream",
     "text": [
      "Un texto, otro texto y un numero 10\n"
     ]
    }
   ],
   "source": [
    "#También podemos referenciar cada variable con un código\n",
    "print( \"Un texto, {texto} y un numero {numero}\".format(texto=v, numero=n))"
   ]
  },
  {
   "cell_type": "code",
   "execution_count": 12,
   "metadata": {},
   "outputs": [
    {
     "name": "stdout",
     "output_type": "stream",
     "text": [
      "otro texto, otro texto, otro texto\n"
     ]
    }
   ],
   "source": [
    "print(\"{v}, {v}, {v}\".format(v=v))"
   ]
  },
  {
   "cell_type": "code",
   "execution_count": 13,
   "metadata": {},
   "outputs": [
    {
     "name": "stdout",
     "output_type": "stream",
     "text": [
      "                       Palabra\n"
     ]
    }
   ],
   "source": [
    "#Format permite muchas cosas, por ejemplo:\n",
    "#Alinear texto [izq, centro, der]\n",
    "print( \"{:>30}\".format(\"Palabra\")) #Alineamiento a la derecha :>30 con 30 caracteres"
   ]
  },
  {
   "cell_type": "code",
   "execution_count": 14,
   "metadata": {},
   "outputs": [
    {
     "name": "stdout",
     "output_type": "stream",
     "text": [
      "Palabra                       \n"
     ]
    }
   ],
   "source": [
    "print( \"{:30}\".format(\"Palabra\")) #Alineamiento a la izquierda :30 con 30 caracteres"
   ]
  },
  {
   "cell_type": "code",
   "execution_count": 15,
   "metadata": {},
   "outputs": [
    {
     "name": "stdout",
     "output_type": "stream",
     "text": [
      "           Palabra            \n"
     ]
    }
   ],
   "source": [
    "print( \"{:^30}\".format(\"Palabra\")) #Alineamiento centrado :^30 con 30 caracteres"
   ]
  },
  {
   "cell_type": "code",
   "execution_count": 16,
   "metadata": {},
   "outputs": [
    {
     "name": "stdout",
     "output_type": "stream",
     "text": [
      "Pal\n"
     ]
    }
   ],
   "source": [
    "print( \"{:.3}\".format(\"Palabra\")) #Truncamiento a 3 caracteres"
   ]
  },
  {
   "cell_type": "code",
   "execution_count": 18,
   "metadata": {},
   "outputs": [
    {
     "name": "stdout",
     "output_type": "stream",
     "text": [
      "                           Pal\n"
     ]
    }
   ],
   "source": [
    "print( \"{:>30.3}\".format(\"Palabra\")) #Alineamiento a la derecha con 30 caracteres y truncamiento de 3 :>30.3"
   ]
  },
  {
   "cell_type": "code",
   "execution_count": 22,
   "metadata": {},
   "outputs": [
    {
     "name": "stdout",
     "output_type": "stream",
     "text": [
      "10\n",
      "100\n",
      "1000\n",
      "\n",
      "  10\n",
      " 100\n",
      "1000\n",
      " \n",
      "0010\n",
      "0100\n",
      "1000\n"
     ]
    }
   ],
   "source": [
    "print( \"{}\".format(10))\n",
    "print( \"{}\".format(100))\n",
    "print( \"{}\".format(1000))\n",
    "print( \"\" )\n",
    "\n",
    "#Format también permite formatear números\n",
    "#Formateo de números enteros (rellenado con espacios)\n",
    "#Alinear a la derecha, con 4 caracteres, rellenando con espacios\n",
    "print( \"{:4d}\".format(10))\n",
    "print( \"{:4d}\".format(100))\n",
    "print( \"{:4d}\".format(1000))\n",
    "\n",
    "print(\" \")\n",
    "\n",
    "#Formateo de números (rellenado con 0)\n",
    "print( \"{:04d}\".format(10))\n",
    "print( \"{:04d}\".format(100))\n",
    "print( \"{:04d}\".format(1000))"
   ]
  },
  {
   "cell_type": "code",
   "execution_count": 33,
   "metadata": {},
   "outputs": [
    {
     "name": "stdout",
     "output_type": "stream",
     "text": [
      "3.14\n",
      "003.142\n",
      "153.210\n"
     ]
    }
   ],
   "source": [
    "#Formateo de número flotantes (rellenados con espacios)\n",
    "print( \"{:.2f}\".format(3.1415926) ) #Truncando a 2 decimales\n",
    "print( \"{:07.3f}\".format(3.1415926) ) #Truncando a 3 decimales (completa con 0 si no llega a 3)\n",
    "print( \"{:7.3f}\".format(153.21) ) #Alineado a la derecha"
   ]
  },
  {
   "cell_type": "code",
   "execution_count": null,
   "metadata": {},
   "outputs": [],
   "source": []
  }
 ],
 "metadata": {
  "kernelspec": {
   "display_name": "Python 3",
   "language": "python",
   "name": "python3"
  },
  "language_info": {
   "codemirror_mode": {
    "name": "ipython",
    "version": 3
   },
   "file_extension": ".py",
   "mimetype": "text/x-python",
   "name": "python",
   "nbconvert_exporter": "python",
   "pygments_lexer": "ipython3",
   "version": "3.7.4"
  }
 },
 "nbformat": 4,
 "nbformat_minor": 1
}
