{
 "cells": [
  {
   "cell_type": "code",
   "execution_count": 1,
   "metadata": {},
   "outputs": [
    {
     "name": "stdout",
     "output_type": "stream",
     "text": [
      "Introduce un número: 9\n",
      "Error\n"
     ]
    }
   ],
   "source": [
    "try:\n",
    "    n = input(\"Introduce un número: \")\n",
    "    5/n\n",
    "except:\n",
    "    print(\"Error\")"
   ]
  },
  {
   "cell_type": "code",
   "execution_count": 5,
   "metadata": {},
   "outputs": [
    {
     "name": "stdout",
     "output_type": "stream",
     "text": [
      "Introduce un número: 12\n",
      "TypeError\n"
     ]
    }
   ],
   "source": [
    "#Para definir tipo de erorres en python puedo usar la clase Exception as [nombre] para obtener el tipo de una exepcion.\n",
    "try:\n",
    "    n = input(\"Introduce un número: \")\n",
    "    5/n\n",
    "except Exception as e:\n",
    "    print( type(e).__name__ )"
   ]
  },
  {
   "cell_type": "code",
   "execution_count": 10,
   "metadata": {},
   "outputs": [
    {
     "name": "stdout",
     "output_type": "stream",
     "text": [
      "Introduce un número: 0\n",
      "No se puede dividir por 0\n"
     ]
    }
   ],
   "source": [
    "#Para denotar diferentes excepciones:\n",
    "try:\n",
    "    n = float(input(\"Introduce un número: \"))\n",
    "    5/n\n",
    "except TypeError:\n",
    "    print(\"No se puede dividir el numero por una cadena\")\n",
    "except ValueError:\n",
    "    print(\"Debes introducir una cadena que sea un número\")\n",
    "except ZeroDivisionError:\n",
    "    print(\"No se puede dividir por 0\")\n",
    "except Exception as e: #Atrapa cualquier excepción que no esté declarada arriba de forma particular.\n",
    "    print( type(e).__name__)"
   ]
  },
  {
   "cell_type": "code",
   "execution_count": null,
   "metadata": {},
   "outputs": [],
   "source": []
  }
 ],
 "metadata": {
  "kernelspec": {
   "display_name": "Python 3",
   "language": "python",
   "name": "python3"
  },
  "language_info": {
   "codemirror_mode": {
    "name": "ipython",
    "version": 3
   },
   "file_extension": ".py",
   "mimetype": "text/x-python",
   "name": "python",
   "nbconvert_exporter": "python",
   "pygments_lexer": "ipython3",
   "version": "3.7.4"
  }
 },
 "nbformat": 4,
 "nbformat_minor": 1
}
